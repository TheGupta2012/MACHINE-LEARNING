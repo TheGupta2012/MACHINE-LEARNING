{
 "cells": [
  {
   "cell_type": "markdown",
   "metadata": {},
   "source": [
    "# Classification of Diabetic People."
   ]
  },
  {
   "cell_type": "markdown",
   "metadata": {},
   "source": [
    "- The aim of this project is to look at the metadata related to the health stats of people and classify whether the person suffers from **diabetes** or not."
   ]
  },
  {
   "cell_type": "code",
   "execution_count": 15,
   "metadata": {},
   "outputs": [],
   "source": [
    "%matplotlib inline"
   ]
  },
  {
   "cell_type": "code",
   "execution_count": 16,
   "metadata": {},
   "outputs": [],
   "source": [
    "import matplotlib.pyplot as plt"
   ]
  },
  {
   "cell_type": "code",
   "execution_count": 17,
   "metadata": {},
   "outputs": [],
   "source": [
    "import pandas as pd\n",
    "import numpy as np\n",
    "from IPython.display import Image\n",
    "import math\n",
    "from sklearn.ensemble import RandomForestClassifier\n",
    "from sklearn.model_selection import train_test_split\n",
    "from sklearn.metrics import confusion_matrix\n",
    "import seaborn as sns"
   ]
  },
  {
   "cell_type": "code",
   "execution_count": 18,
   "metadata": {},
   "outputs": [],
   "source": [
    "class color:\n",
    "    PURPLE = '\\033[95m'\n",
    "    CYAN = '\\033[96m'\n",
    "    DARKCYAN = '\\033[36m'\n",
    "    BLUE = '\\033[94m'\n",
    "    GREEN = '\\033[92m'\n",
    "    YELLOW = '\\033[93m'\n",
    "    RED = '\\033[91m'\n",
    "    BOLD = '\\033[1m'\n",
    "    UNDERLINE = '\\033[4m'\n",
    "    END = '\\033[0m'"
   ]
  },
  {
   "cell_type": "code",
   "execution_count": 19,
   "metadata": {},
   "outputs": [],
   "source": [
    "train_raw = pd.read_csv(r'D:\\ML\\Classification with Random Forests and KNN\\Diabetes_Xtrain.csv',low_memory= 0)\n",
    "y_raw = pd.read_csv(r'D:\\ML\\Classification with Random Forests and KNN\\Diabetes_Ytrain.csv',low_memory=0)\n",
    "test_raw = pd.read_csv(r'D:\\ML\\Classification with Random Forests and KNN\\Diabetes_Xtest.csv',low_memory=0)"
   ]
  },
  {
   "cell_type": "code",
   "execution_count": 20,
   "metadata": {},
   "outputs": [
    {
     "data": {
      "text/html": [
       "<div>\n",
       "<style scoped>\n",
       "    .dataframe tbody tr th:only-of-type {\n",
       "        vertical-align: middle;\n",
       "    }\n",
       "\n",
       "    .dataframe tbody tr th {\n",
       "        vertical-align: top;\n",
       "    }\n",
       "\n",
       "    .dataframe thead th {\n",
       "        text-align: right;\n",
       "    }\n",
       "</style>\n",
       "<table border=\"1\" class=\"dataframe\">\n",
       "  <thead>\n",
       "    <tr style=\"text-align: right;\">\n",
       "      <th></th>\n",
       "      <th>Pregnancies</th>\n",
       "      <th>Glucose</th>\n",
       "      <th>BloodPressure</th>\n",
       "      <th>SkinThickness</th>\n",
       "      <th>Insulin</th>\n",
       "      <th>BMI</th>\n",
       "      <th>DiabetesPedigreeFunction</th>\n",
       "      <th>Age</th>\n",
       "    </tr>\n",
       "  </thead>\n",
       "  <tbody>\n",
       "    <tr>\n",
       "      <td>0</td>\n",
       "      <td>7</td>\n",
       "      <td>168</td>\n",
       "      <td>88</td>\n",
       "      <td>42</td>\n",
       "      <td>321</td>\n",
       "      <td>38.2</td>\n",
       "      <td>0.787</td>\n",
       "      <td>40</td>\n",
       "    </tr>\n",
       "    <tr>\n",
       "      <td>1</td>\n",
       "      <td>8</td>\n",
       "      <td>110</td>\n",
       "      <td>76</td>\n",
       "      <td>0</td>\n",
       "      <td>0</td>\n",
       "      <td>27.8</td>\n",
       "      <td>0.237</td>\n",
       "      <td>58</td>\n",
       "    </tr>\n",
       "    <tr>\n",
       "      <td>2</td>\n",
       "      <td>7</td>\n",
       "      <td>147</td>\n",
       "      <td>76</td>\n",
       "      <td>0</td>\n",
       "      <td>0</td>\n",
       "      <td>39.4</td>\n",
       "      <td>0.257</td>\n",
       "      <td>43</td>\n",
       "    </tr>\n",
       "    <tr>\n",
       "      <td>3</td>\n",
       "      <td>2</td>\n",
       "      <td>100</td>\n",
       "      <td>66</td>\n",
       "      <td>20</td>\n",
       "      <td>90</td>\n",
       "      <td>32.9</td>\n",
       "      <td>0.867</td>\n",
       "      <td>28</td>\n",
       "    </tr>\n",
       "    <tr>\n",
       "      <td>4</td>\n",
       "      <td>4</td>\n",
       "      <td>129</td>\n",
       "      <td>86</td>\n",
       "      <td>20</td>\n",
       "      <td>270</td>\n",
       "      <td>35.1</td>\n",
       "      <td>0.231</td>\n",
       "      <td>23</td>\n",
       "    </tr>\n",
       "    <tr>\n",
       "      <td>...</td>\n",
       "      <td>...</td>\n",
       "      <td>...</td>\n",
       "      <td>...</td>\n",
       "      <td>...</td>\n",
       "      <td>...</td>\n",
       "      <td>...</td>\n",
       "      <td>...</td>\n",
       "      <td>...</td>\n",
       "    </tr>\n",
       "    <tr>\n",
       "      <td>571</td>\n",
       "      <td>2</td>\n",
       "      <td>111</td>\n",
       "      <td>60</td>\n",
       "      <td>0</td>\n",
       "      <td>0</td>\n",
       "      <td>26.2</td>\n",
       "      <td>0.343</td>\n",
       "      <td>23</td>\n",
       "    </tr>\n",
       "    <tr>\n",
       "      <td>572</td>\n",
       "      <td>7</td>\n",
       "      <td>187</td>\n",
       "      <td>68</td>\n",
       "      <td>39</td>\n",
       "      <td>304</td>\n",
       "      <td>37.7</td>\n",
       "      <td>0.254</td>\n",
       "      <td>41</td>\n",
       "    </tr>\n",
       "    <tr>\n",
       "      <td>573</td>\n",
       "      <td>2</td>\n",
       "      <td>122</td>\n",
       "      <td>60</td>\n",
       "      <td>18</td>\n",
       "      <td>106</td>\n",
       "      <td>29.8</td>\n",
       "      <td>0.717</td>\n",
       "      <td>22</td>\n",
       "    </tr>\n",
       "    <tr>\n",
       "      <td>574</td>\n",
       "      <td>4</td>\n",
       "      <td>154</td>\n",
       "      <td>72</td>\n",
       "      <td>29</td>\n",
       "      <td>126</td>\n",
       "      <td>31.3</td>\n",
       "      <td>0.338</td>\n",
       "      <td>37</td>\n",
       "    </tr>\n",
       "    <tr>\n",
       "      <td>575</td>\n",
       "      <td>1</td>\n",
       "      <td>88</td>\n",
       "      <td>78</td>\n",
       "      <td>29</td>\n",
       "      <td>76</td>\n",
       "      <td>32.0</td>\n",
       "      <td>0.365</td>\n",
       "      <td>29</td>\n",
       "    </tr>\n",
       "  </tbody>\n",
       "</table>\n",
       "<p>576 rows × 8 columns</p>\n",
       "</div>"
      ],
      "text/plain": [
       "     Pregnancies  Glucose  BloodPressure  SkinThickness  Insulin   BMI  \\\n",
       "0              7      168             88             42      321  38.2   \n",
       "1              8      110             76              0        0  27.8   \n",
       "2              7      147             76              0        0  39.4   \n",
       "3              2      100             66             20       90  32.9   \n",
       "4              4      129             86             20      270  35.1   \n",
       "..           ...      ...            ...            ...      ...   ...   \n",
       "571            2      111             60              0        0  26.2   \n",
       "572            7      187             68             39      304  37.7   \n",
       "573            2      122             60             18      106  29.8   \n",
       "574            4      154             72             29      126  31.3   \n",
       "575            1       88             78             29       76  32.0   \n",
       "\n",
       "     DiabetesPedigreeFunction  Age  \n",
       "0                       0.787   40  \n",
       "1                       0.237   58  \n",
       "2                       0.257   43  \n",
       "3                       0.867   28  \n",
       "4                       0.231   23  \n",
       "..                        ...  ...  \n",
       "571                     0.343   23  \n",
       "572                     0.254   41  \n",
       "573                     0.717   22  \n",
       "574                     0.338   37  \n",
       "575                     0.365   29  \n",
       "\n",
       "[576 rows x 8 columns]"
      ]
     },
     "execution_count": 20,
     "metadata": {},
     "output_type": "execute_result"
    }
   ],
   "source": [
    "train_raw\n"
   ]
  },
  {
   "cell_type": "code",
   "execution_count": 21,
   "metadata": {},
   "outputs": [
    {
     "data": {
      "text/plain": [
       "Index(['Pregnancies', 'Glucose', 'BloodPressure', 'SkinThickness', 'Insulin',\n",
       "       'BMI', 'DiabetesPedigreeFunction', 'Age'],\n",
       "      dtype='object')"
      ]
     },
     "execution_count": 21,
     "metadata": {},
     "output_type": "execute_result"
    }
   ],
   "source": [
    "train_raw.columns"
   ]
  },
  {
   "cell_type": "code",
   "execution_count": 22,
   "metadata": {},
   "outputs": [
    {
     "data": {
      "text/html": [
       "<div>\n",
       "<style scoped>\n",
       "    .dataframe tbody tr th:only-of-type {\n",
       "        vertical-align: middle;\n",
       "    }\n",
       "\n",
       "    .dataframe tbody tr th {\n",
       "        vertical-align: top;\n",
       "    }\n",
       "\n",
       "    .dataframe thead th {\n",
       "        text-align: right;\n",
       "    }\n",
       "</style>\n",
       "<table border=\"1\" class=\"dataframe\">\n",
       "  <thead>\n",
       "    <tr style=\"text-align: right;\">\n",
       "      <th></th>\n",
       "      <th>Pregnancies</th>\n",
       "      <th>Glucose</th>\n",
       "      <th>BloodPressure</th>\n",
       "      <th>SkinThickness</th>\n",
       "      <th>Insulin</th>\n",
       "      <th>BMI</th>\n",
       "      <th>DiabetesPedigreeFunction</th>\n",
       "      <th>Age</th>\n",
       "    </tr>\n",
       "  </thead>\n",
       "  <tbody>\n",
       "    <tr>\n",
       "      <td>0</td>\n",
       "      <td>0</td>\n",
       "      <td>180</td>\n",
       "      <td>90</td>\n",
       "      <td>26</td>\n",
       "      <td>90</td>\n",
       "      <td>36.5</td>\n",
       "      <td>0.314</td>\n",
       "      <td>35</td>\n",
       "    </tr>\n",
       "    <tr>\n",
       "      <td>1</td>\n",
       "      <td>2</td>\n",
       "      <td>93</td>\n",
       "      <td>64</td>\n",
       "      <td>32</td>\n",
       "      <td>160</td>\n",
       "      <td>38.0</td>\n",
       "      <td>0.674</td>\n",
       "      <td>23</td>\n",
       "    </tr>\n",
       "    <tr>\n",
       "      <td>2</td>\n",
       "      <td>2</td>\n",
       "      <td>114</td>\n",
       "      <td>68</td>\n",
       "      <td>22</td>\n",
       "      <td>0</td>\n",
       "      <td>28.7</td>\n",
       "      <td>0.092</td>\n",
       "      <td>25</td>\n",
       "    </tr>\n",
       "    <tr>\n",
       "      <td>3</td>\n",
       "      <td>13</td>\n",
       "      <td>76</td>\n",
       "      <td>60</td>\n",
       "      <td>0</td>\n",
       "      <td>0</td>\n",
       "      <td>32.8</td>\n",
       "      <td>0.180</td>\n",
       "      <td>41</td>\n",
       "    </tr>\n",
       "    <tr>\n",
       "      <td>4</td>\n",
       "      <td>1</td>\n",
       "      <td>80</td>\n",
       "      <td>74</td>\n",
       "      <td>11</td>\n",
       "      <td>60</td>\n",
       "      <td>30.0</td>\n",
       "      <td>0.527</td>\n",
       "      <td>22</td>\n",
       "    </tr>\n",
       "  </tbody>\n",
       "</table>\n",
       "</div>"
      ],
      "text/plain": [
       "   Pregnancies  Glucose  BloodPressure  SkinThickness  Insulin   BMI  \\\n",
       "0            0      180             90             26       90  36.5   \n",
       "1            2       93             64             32      160  38.0   \n",
       "2            2      114             68             22        0  28.7   \n",
       "3           13       76             60              0        0  32.8   \n",
       "4            1       80             74             11       60  30.0   \n",
       "\n",
       "   DiabetesPedigreeFunction  Age  \n",
       "0                     0.314   35  \n",
       "1                     0.674   23  \n",
       "2                     0.092   25  \n",
       "3                     0.180   41  \n",
       "4                     0.527   22  "
      ]
     },
     "execution_count": 22,
     "metadata": {},
     "output_type": "execute_result"
    }
   ],
   "source": [
    "test_raw.head()"
   ]
  },
  {
   "cell_type": "code",
   "execution_count": 23,
   "metadata": {},
   "outputs": [
    {
     "data": {
      "text/html": [
       "<div>\n",
       "<style scoped>\n",
       "    .dataframe tbody tr th:only-of-type {\n",
       "        vertical-align: middle;\n",
       "    }\n",
       "\n",
       "    .dataframe tbody tr th {\n",
       "        vertical-align: top;\n",
       "    }\n",
       "\n",
       "    .dataframe thead th {\n",
       "        text-align: right;\n",
       "    }\n",
       "</style>\n",
       "<table border=\"1\" class=\"dataframe\">\n",
       "  <thead>\n",
       "    <tr style=\"text-align: right;\">\n",
       "      <th></th>\n",
       "      <th>Outcome</th>\n",
       "    </tr>\n",
       "  </thead>\n",
       "  <tbody>\n",
       "    <tr>\n",
       "      <td>0</td>\n",
       "      <td>1</td>\n",
       "    </tr>\n",
       "    <tr>\n",
       "      <td>1</td>\n",
       "      <td>0</td>\n",
       "    </tr>\n",
       "    <tr>\n",
       "      <td>2</td>\n",
       "      <td>1</td>\n",
       "    </tr>\n",
       "    <tr>\n",
       "      <td>3</td>\n",
       "      <td>1</td>\n",
       "    </tr>\n",
       "    <tr>\n",
       "      <td>4</td>\n",
       "      <td>0</td>\n",
       "    </tr>\n",
       "  </tbody>\n",
       "</table>\n",
       "</div>"
      ],
      "text/plain": [
       "   Outcome\n",
       "0        1\n",
       "1        0\n",
       "2        1\n",
       "3        1\n",
       "4        0"
      ]
     },
     "execution_count": 23,
     "metadata": {},
     "output_type": "execute_result"
    }
   ],
   "source": [
    "y_raw.head()"
   ]
  },
  {
   "cell_type": "markdown",
   "metadata": {},
   "source": [
    "## Handling Missing Values\n"
   ]
  },
  {
   "cell_type": "code",
   "execution_count": 24,
   "metadata": {},
   "outputs": [
    {
     "name": "stdout",
     "output_type": "stream",
     "text": [
      "\u001b[1mThe number of missing values are:\u001b[0m\n",
      "\u001b[4mTraining Set\u001b[0m\n",
      "('Pregnancies', 0)\n",
      "('Glucose', 3)\n",
      "('BloodPressure', 29)\n",
      "('SkinThickness', 171)\n",
      "('Insulin', 278)\n",
      "('BMI', 9)\n",
      "('DiabetesPedigreeFunction', 0)\n",
      "('Age', 0)\n",
      "\u001b[4mTest set\u001b[0m\n",
      "('Pregnancies', 0)\n",
      "('Glucose', 2)\n",
      "('BloodPressure', 6)\n",
      "('SkinThickness', 56)\n",
      "('Insulin', 96)\n",
      "('BMI', 2)\n",
      "('DiabetesPedigreeFunction', 0)\n",
      "('Age', 0)\n"
     ]
    }
   ],
   "source": [
    "tr = dict()\n",
    "te = dict()\n",
    "\n",
    "for k in train_raw.columns:\n",
    "    tr[k]=0\n",
    "    if(k=='Pregnancies'):\n",
    "        continue\n",
    "    for i in train_raw[k]:\n",
    "        if(i==0):\n",
    "            tr[k]+=1\n",
    "for k in test_raw.columns:\n",
    "    te[k]=0\n",
    "    if(k=='Pregnancies'):\n",
    "        continue\n",
    "    for i in test_raw[k]:\n",
    "        if(i==0):\n",
    "            te[k]+=1\n",
    "            \n",
    "print(color.BOLD+\"The number of missing values are:\"+color.END)\n",
    "print(color.UNDERLINE+\"Training Set\"+color.END)\n",
    "for i in tr.items():print(i)\n",
    "print(color.UNDERLINE+\"Test set\"+color.END)\n",
    "for i in te.items():print(i)"
   ]
  },
  {
   "cell_type": "markdown",
   "metadata": {},
   "source": [
    "- The above analysis states that **there are many missing values in the test and the training set**\n",
    "- These missing values are replaced by the **respective medians of the columns in the raw dataset** the code for which is written below."
   ]
  },
  {
   "cell_type": "markdown",
   "metadata": {},
   "source": [
    "# Replacing missing values with MEAN."
   ]
  },
  {
   "cell_type": "markdown",
   "metadata": {},
   "source": [
    "- The missing values of the training and test sets were **updated with the means of the respective columns** of the training data set wherever they were missing.\n",
    "- A crucial thing to be noted was that the **same values of the mean** were used for the **test data set** and the **training data set.**"
   ]
  },
  {
   "cell_type": "markdown",
   "metadata": {},
   "source": [
    "### - Training Set"
   ]
  },
  {
   "cell_type": "code",
   "execution_count": 25,
   "metadata": {},
   "outputs": [
    {
     "name": "stdout",
     "output_type": "stream",
     "text": [
      "Mean for  Glucose : 119.97569444444444\n",
      "Mean for  BloodPressure : 68.82638888888889\n",
      "Mean for  SkinThickness : 20.364583333333332\n",
      "Mean for  Insulin : 76.16666666666667\n",
      "Mean for  BMI : 31.857291666666665\n",
      "{'Glucose': 3, 'BloodPressure': 29, 'SkinThickness': 171, 'Insulin': 278, 'BMI': 9}\n"
     ]
    }
   ],
   "source": [
    "miss_col = ['Glucose','BloodPressure','SkinThickness','Insulin','BMI']\n",
    "miss=dict()\n",
    "mean = dict()\n",
    "for c in miss_col:\n",
    "    data = train_raw[c].values\n",
    "    mean[c] = np.mean(data)\n",
    "    print(\"Mean for \",c,\":\",mean[c])\n",
    "    i=0\n",
    "    for k in data:\n",
    "        if k == 0:\n",
    "            train_raw.at[i,c] = mean[c]\n",
    "            miss[c]=miss.get(c,0)+1\n",
    "        i+=1\n",
    "print(miss)"
   ]
  },
  {
   "cell_type": "markdown",
   "metadata": {},
   "source": [
    "### - Test Set"
   ]
  },
  {
   "cell_type": "code",
   "execution_count": 26,
   "metadata": {},
   "outputs": [
    {
     "name": "stdout",
     "output_type": "stream",
     "text": [
      "Mean for  Glucose  is: 119.97569444444444\n",
      "Mean for  BloodPressure  is: 68.82638888888889\n",
      "Mean for  SkinThickness  is: 20.364583333333332\n",
      "Mean for  Insulin  is: 76.16666666666667\n",
      "Mean for  BMI  is: 31.857291666666665\n",
      "{'Glucose': 2, 'BloodPressure': 6, 'SkinThickness': 56, 'Insulin': 96, 'BMI': 2}\n"
     ]
    }
   ],
   "source": [
    "miss_test = dict()\n",
    "for c in miss_col:\n",
    "    data = test_raw[c].values\n",
    "    print(\"Mean for \",c,\" is:\",mean[c])\n",
    "    i = 0\n",
    "    for k in data:\n",
    "        if k == 0:\n",
    "            test_raw.at[i,c] = mean[c]\n",
    "            miss_test[c] = miss_test.get(c,0)+1\n",
    "        i+=1\n",
    "print(miss_test)"
   ]
  },
  {
   "cell_type": "markdown",
   "metadata": {},
   "source": [
    "# Describing Variables"
   ]
  },
  {
   "cell_type": "markdown",
   "metadata": {},
   "source": [
    "- The **training dataset and test dataset** comprises of 8 columns each which are **'Pregnancies', 'Glucose', 'BloodPressure', 'SkinThickness', 'Insulin','BMI', 'DiabetesPedigreeFunction', 'Age'**\n",
    "- These 8 form the **independent variables** for our dataset.\n",
    "- The y_train dataset consists of the **dependent variable OUTCOME**. It has boolean values based on the fact whether a particular person is **DIABETIC** or **NON - DIABETIC**.\n",
    "- **Diabetic** - 1\n",
    "- **NonDiabetic** - 0\n",
    "- All of the columns of the **training dataset** have been described below.\n"
   ]
  },
  {
   "cell_type": "code",
   "execution_count": 95,
   "metadata": {},
   "outputs": [
    {
     "data": {
      "text/html": [
       "<div>\n",
       "<style scoped>\n",
       "    .dataframe tbody tr th:only-of-type {\n",
       "        vertical-align: middle;\n",
       "    }\n",
       "\n",
       "    .dataframe tbody tr th {\n",
       "        vertical-align: top;\n",
       "    }\n",
       "\n",
       "    .dataframe thead th {\n",
       "        text-align: right;\n",
       "    }\n",
       "</style>\n",
       "<table border=\"1\" class=\"dataframe\">\n",
       "  <thead>\n",
       "    <tr style=\"text-align: right;\">\n",
       "      <th></th>\n",
       "      <th>Pregnancies</th>\n",
       "      <th>Glucose</th>\n",
       "      <th>BloodPressure</th>\n",
       "      <th>SkinThickness</th>\n",
       "      <th>Insulin</th>\n",
       "      <th>BMI</th>\n",
       "      <th>DiabetesPedigreeFunction</th>\n",
       "      <th>Age</th>\n",
       "      <th>Outcome</th>\n",
       "    </tr>\n",
       "  </thead>\n",
       "  <tbody>\n",
       "    <tr>\n",
       "      <td>count</td>\n",
       "      <td>576.000000</td>\n",
       "      <td>576.000000</td>\n",
       "      <td>576.000000</td>\n",
       "      <td>576.000000</td>\n",
       "      <td>576.000000</td>\n",
       "      <td>576.000000</td>\n",
       "      <td>576.000000</td>\n",
       "      <td>576.000000</td>\n",
       "      <td>576.000000</td>\n",
       "    </tr>\n",
       "    <tr>\n",
       "      <td>mean</td>\n",
       "      <td>3.758681</td>\n",
       "      <td>120.595486</td>\n",
       "      <td>72.250000</td>\n",
       "      <td>26.302083</td>\n",
       "      <td>112.847222</td>\n",
       "      <td>32.355062</td>\n",
       "      <td>0.481519</td>\n",
       "      <td>32.954861</td>\n",
       "      <td>0.348958</td>\n",
       "    </tr>\n",
       "    <tr>\n",
       "      <td>std</td>\n",
       "      <td>3.328783</td>\n",
       "      <td>30.291648</td>\n",
       "      <td>12.684396</td>\n",
       "      <td>9.695668</td>\n",
       "      <td>88.151062</td>\n",
       "      <td>7.074152</td>\n",
       "      <td>0.336910</td>\n",
       "      <td>11.878137</td>\n",
       "      <td>0.477055</td>\n",
       "    </tr>\n",
       "    <tr>\n",
       "      <td>min</td>\n",
       "      <td>0.000000</td>\n",
       "      <td>44.000000</td>\n",
       "      <td>24.000000</td>\n",
       "      <td>7.000000</td>\n",
       "      <td>14.000000</td>\n",
       "      <td>18.200000</td>\n",
       "      <td>0.078000</td>\n",
       "      <td>21.000000</td>\n",
       "      <td>0.000000</td>\n",
       "    </tr>\n",
       "    <tr>\n",
       "      <td>25%</td>\n",
       "      <td>1.000000</td>\n",
       "      <td>99.000000</td>\n",
       "      <td>64.000000</td>\n",
       "      <td>20.000000</td>\n",
       "      <td>76.000000</td>\n",
       "      <td>27.300000</td>\n",
       "      <td>0.247750</td>\n",
       "      <td>24.000000</td>\n",
       "      <td>0.000000</td>\n",
       "    </tr>\n",
       "    <tr>\n",
       "      <td>50%</td>\n",
       "      <td>3.000000</td>\n",
       "      <td>117.000000</td>\n",
       "      <td>72.000000</td>\n",
       "      <td>22.000000</td>\n",
       "      <td>76.000000</td>\n",
       "      <td>32.000000</td>\n",
       "      <td>0.381500</td>\n",
       "      <td>29.000000</td>\n",
       "      <td>0.000000</td>\n",
       "    </tr>\n",
       "    <tr>\n",
       "      <td>75%</td>\n",
       "      <td>6.000000</td>\n",
       "      <td>139.000000</td>\n",
       "      <td>80.000000</td>\n",
       "      <td>32.000000</td>\n",
       "      <td>120.000000</td>\n",
       "      <td>36.725000</td>\n",
       "      <td>0.641250</td>\n",
       "      <td>40.000000</td>\n",
       "      <td>1.000000</td>\n",
       "    </tr>\n",
       "    <tr>\n",
       "      <td>max</td>\n",
       "      <td>17.000000</td>\n",
       "      <td>199.000000</td>\n",
       "      <td>122.000000</td>\n",
       "      <td>63.000000</td>\n",
       "      <td>744.000000</td>\n",
       "      <td>67.100000</td>\n",
       "      <td>2.420000</td>\n",
       "      <td>81.000000</td>\n",
       "      <td>1.000000</td>\n",
       "    </tr>\n",
       "  </tbody>\n",
       "</table>\n",
       "</div>"
      ],
      "text/plain": [
       "       Pregnancies     Glucose  BloodPressure  SkinThickness     Insulin  \\\n",
       "count   576.000000  576.000000     576.000000     576.000000  576.000000   \n",
       "mean      3.758681  120.595486      72.250000      26.302083  112.847222   \n",
       "std       3.328783   30.291648      12.684396       9.695668   88.151062   \n",
       "min       0.000000   44.000000      24.000000       7.000000   14.000000   \n",
       "25%       1.000000   99.000000      64.000000      20.000000   76.000000   \n",
       "50%       3.000000  117.000000      72.000000      22.000000   76.000000   \n",
       "75%       6.000000  139.000000      80.000000      32.000000  120.000000   \n",
       "max      17.000000  199.000000     122.000000      63.000000  744.000000   \n",
       "\n",
       "              BMI  DiabetesPedigreeFunction         Age     Outcome  \n",
       "count  576.000000                576.000000  576.000000  576.000000  \n",
       "mean    32.355062                  0.481519   32.954861    0.348958  \n",
       "std      7.074152                  0.336910   11.878137    0.477055  \n",
       "min     18.200000                  0.078000   21.000000    0.000000  \n",
       "25%     27.300000                  0.247750   24.000000    0.000000  \n",
       "50%     32.000000                  0.381500   29.000000    0.000000  \n",
       "75%     36.725000                  0.641250   40.000000    1.000000  \n",
       "max     67.100000                  2.420000   81.000000    1.000000  "
      ]
     },
     "execution_count": 95,
     "metadata": {},
     "output_type": "execute_result"
    }
   ],
   "source": [
    "combine.describe()"
   ]
  },
  {
   "cell_type": "markdown",
   "metadata": {},
   "source": [
    "## Scatter plots for updated variables"
   ]
  },
  {
   "cell_type": "code",
   "execution_count": 29,
   "metadata": {},
   "outputs": [
    {
     "data": {
      "text/plain": [
       "Text(0.5, 0, 'Person ID')"
      ]
     },
     "execution_count": 29,
     "metadata": {},
     "output_type": "execute_result"
    },
    {
     "data": {
      "image/png": "[encoded data removed]",
      "text/plain": [
       "<Figure size 432x288 with 1 Axes>"
      ]
     },
     "metadata": {
      "needs_background": "light"
     },
     "output_type": "display_data"
    }
   ],
   "source": [
    "plt.scatter([i for i in range(576)],train_raw['SkinThickness'],marker='.',color = 'red')\n",
    "plt.ylabel('Skin Thickness',fontweight ='bold')\n",
    "plt.xlabel('Person ID',fontweight = 'bold')"
   ]
  },
  {
   "cell_type": "code",
   "execution_count": 30,
   "metadata": {},
   "outputs": [
    {
     "data": {
      "text/plain": [
       "Text(0.5, 0, 'Person ID')"
      ]
     },
     "execution_count": 30,
     "metadata": {},
     "output_type": "execute_result"
    },
    {
     "data": {
      "image/png": "[encoded data removed]",
      "text/plain": [
       "<Figure size 432x288 with 1 Axes>"
      ]
     },
     "metadata": {
      "needs_background": "light"
     },
     "output_type": "display_data"
    }
   ],
   "source": [
    "plt.scatter([i for i in range(576)],train_raw['Insulin'],marker='.',color = 'red')\n",
    "plt.ylabel(\"Insulin\",fontweight ='bold')\n",
    "plt.xlabel('Person ID',fontweight = 'bold')"
   ]
  },
  {
   "cell_type": "markdown",
   "metadata": {},
   "source": [
    "- The above two scatter plots show, as an example, the **large number of missing values** that were actually present in the data set and thus now appear to be replaced by the line that is equal to the **mean of the feature.**"
   ]
  },
  {
   "cell_type": "code",
   "execution_count": 39,
   "metadata": {
    "scrolled": true
   },
   "outputs": [
    {
     "data": {
      "text/html": [
       "<div>\n",
       "<style scoped>\n",
       "    .dataframe tbody tr th:only-of-type {\n",
       "        vertical-align: middle;\n",
       "    }\n",
       "\n",
       "    .dataframe tbody tr th {\n",
       "        vertical-align: top;\n",
       "    }\n",
       "\n",
       "    .dataframe thead th {\n",
       "        text-align: right;\n",
       "    }\n",
       "</style>\n",
       "<table border=\"1\" class=\"dataframe\">\n",
       "  <thead>\n",
       "    <tr style=\"text-align: right;\">\n",
       "      <th></th>\n",
       "      <th>Pregnancies</th>\n",
       "      <th>Glucose</th>\n",
       "      <th>BloodPressure</th>\n",
       "      <th>SkinThickness</th>\n",
       "      <th>Insulin</th>\n",
       "      <th>BMI</th>\n",
       "      <th>DiabetesPedigreeFunction</th>\n",
       "      <th>Age</th>\n",
       "      <th>Outcome</th>\n",
       "    </tr>\n",
       "  </thead>\n",
       "  <tbody>\n",
       "    <tr>\n",
       "      <td>0</td>\n",
       "      <td>7</td>\n",
       "      <td>168</td>\n",
       "      <td>88</td>\n",
       "      <td>42</td>\n",
       "      <td>321</td>\n",
       "      <td>38.2</td>\n",
       "      <td>0.787</td>\n",
       "      <td>40</td>\n",
       "      <td>1</td>\n",
       "    </tr>\n",
       "    <tr>\n",
       "      <td>1</td>\n",
       "      <td>8</td>\n",
       "      <td>110</td>\n",
       "      <td>76</td>\n",
       "      <td>20</td>\n",
       "      <td>76</td>\n",
       "      <td>27.8</td>\n",
       "      <td>0.237</td>\n",
       "      <td>58</td>\n",
       "      <td>0</td>\n",
       "    </tr>\n",
       "    <tr>\n",
       "      <td>2</td>\n",
       "      <td>7</td>\n",
       "      <td>147</td>\n",
       "      <td>76</td>\n",
       "      <td>20</td>\n",
       "      <td>76</td>\n",
       "      <td>39.4</td>\n",
       "      <td>0.257</td>\n",
       "      <td>43</td>\n",
       "      <td>1</td>\n",
       "    </tr>\n",
       "    <tr>\n",
       "      <td>3</td>\n",
       "      <td>2</td>\n",
       "      <td>100</td>\n",
       "      <td>66</td>\n",
       "      <td>20</td>\n",
       "      <td>90</td>\n",
       "      <td>32.9</td>\n",
       "      <td>0.867</td>\n",
       "      <td>28</td>\n",
       "      <td>1</td>\n",
       "    </tr>\n",
       "    <tr>\n",
       "      <td>4</td>\n",
       "      <td>4</td>\n",
       "      <td>129</td>\n",
       "      <td>86</td>\n",
       "      <td>20</td>\n",
       "      <td>270</td>\n",
       "      <td>35.1</td>\n",
       "      <td>0.231</td>\n",
       "      <td>23</td>\n",
       "      <td>0</td>\n",
       "    </tr>\n",
       "  </tbody>\n",
       "</table>\n",
       "</div>"
      ],
      "text/plain": [
       "   Pregnancies  Glucose  BloodPressure  SkinThickness  Insulin   BMI  \\\n",
       "0            7      168             88             42      321  38.2   \n",
       "1            8      110             76             20       76  27.8   \n",
       "2            7      147             76             20       76  39.4   \n",
       "3            2      100             66             20       90  32.9   \n",
       "4            4      129             86             20      270  35.1   \n",
       "\n",
       "   DiabetesPedigreeFunction  Age  Outcome  \n",
       "0                     0.787   40        1  \n",
       "1                     0.237   58        0  \n",
       "2                     0.257   43        1  \n",
       "3                     0.867   28        1  \n",
       "4                     0.231   23        0  "
      ]
     },
     "execution_count": 39,
     "metadata": {},
     "output_type": "execute_result"
    }
   ],
   "source": [
    "combine = pd.concat([train_raw,y_raw],axis=1)\n",
    "combine.head()"
   ]
  },
  {
   "cell_type": "markdown",
   "metadata": {},
   "source": [
    "- According to the correlation analysis, it was noted that **BloodPressure and SkinThickness** were the most weakly correlated variables."
   ]
  },
  {
   "cell_type": "code",
   "execution_count": 205,
   "metadata": {
    "scrolled": true
   },
   "outputs": [
    {
     "data": {
      "text/html": [
       "<div>\n",
       "<style scoped>\n",
       "    .dataframe tbody tr th:only-of-type {\n",
       "        vertical-align: middle;\n",
       "    }\n",
       "\n",
       "    .dataframe tbody tr th {\n",
       "        vertical-align: top;\n",
       "    }\n",
       "\n",
       "    .dataframe thead th {\n",
       "        text-align: right;\n",
       "    }\n",
       "</style>\n",
       "<table border=\"1\" class=\"dataframe\">\n",
       "  <thead>\n",
       "    <tr style=\"text-align: right;\">\n",
       "      <th></th>\n",
       "      <th>Pregnancies</th>\n",
       "      <th>Glucose</th>\n",
       "      <th>BloodPressure</th>\n",
       "      <th>SkinThickness</th>\n",
       "      <th>Insulin</th>\n",
       "      <th>BMI</th>\n",
       "      <th>DiabetesPedigreeFunction</th>\n",
       "      <th>Age</th>\n",
       "      <th>Outcome</th>\n",
       "    </tr>\n",
       "  </thead>\n",
       "  <tbody>\n",
       "    <tr>\n",
       "      <td>Pregnancies</td>\n",
       "      <td>1.000000</td>\n",
       "      <td>0.174091</td>\n",
       "      <td>0.249675</td>\n",
       "      <td>0.012716</td>\n",
       "      <td>0.007366</td>\n",
       "      <td>0.065042</td>\n",
       "      <td>-0.036454</td>\n",
       "      <td>0.555994</td>\n",
       "      <td>0.213015</td>\n",
       "    </tr>\n",
       "    <tr>\n",
       "      <td>Glucose</td>\n",
       "      <td>0.174091</td>\n",
       "      <td>1.000000</td>\n",
       "      <td>0.225911</td>\n",
       "      <td>0.125461</td>\n",
       "      <td>0.403696</td>\n",
       "      <td>0.231773</td>\n",
       "      <td>0.149272</td>\n",
       "      <td>0.260808</td>\n",
       "      <td>0.491901</td>\n",
       "    </tr>\n",
       "    <tr>\n",
       "      <td>BloodPressure</td>\n",
       "      <td>0.249675</td>\n",
       "      <td>0.225911</td>\n",
       "      <td>1.000000</td>\n",
       "      <td>0.157455</td>\n",
       "      <td>0.025626</td>\n",
       "      <td>0.277801</td>\n",
       "      <td>-0.005709</td>\n",
       "      <td>0.355526</td>\n",
       "      <td>0.171509</td>\n",
       "    </tr>\n",
       "    <tr>\n",
       "      <td>SkinThickness</td>\n",
       "      <td>0.012716</td>\n",
       "      <td>0.125461</td>\n",
       "      <td>0.157455</td>\n",
       "      <td>1.000000</td>\n",
       "      <td>0.270468</td>\n",
       "      <td>0.563459</td>\n",
       "      <td>0.170513</td>\n",
       "      <td>0.016518</td>\n",
       "      <td>0.166297</td>\n",
       "    </tr>\n",
       "    <tr>\n",
       "      <td>Insulin</td>\n",
       "      <td>0.007366</td>\n",
       "      <td>0.403696</td>\n",
       "      <td>0.025626</td>\n",
       "      <td>0.270468</td>\n",
       "      <td>1.000000</td>\n",
       "      <td>0.175689</td>\n",
       "      <td>0.198604</td>\n",
       "      <td>0.031145</td>\n",
       "      <td>0.194650</td>\n",
       "    </tr>\n",
       "    <tr>\n",
       "      <td>BMI</td>\n",
       "      <td>0.065042</td>\n",
       "      <td>0.231773</td>\n",
       "      <td>0.277801</td>\n",
       "      <td>0.563459</td>\n",
       "      <td>0.175689</td>\n",
       "      <td>1.000000</td>\n",
       "      <td>0.164809</td>\n",
       "      <td>0.054082</td>\n",
       "      <td>0.339733</td>\n",
       "    </tr>\n",
       "    <tr>\n",
       "      <td>DiabetesPedigreeFunction</td>\n",
       "      <td>-0.036454</td>\n",
       "      <td>0.149272</td>\n",
       "      <td>-0.005709</td>\n",
       "      <td>0.170513</td>\n",
       "      <td>0.198604</td>\n",
       "      <td>0.164809</td>\n",
       "      <td>1.000000</td>\n",
       "      <td>0.034847</td>\n",
       "      <td>0.179672</td>\n",
       "    </tr>\n",
       "    <tr>\n",
       "      <td>Age</td>\n",
       "      <td>0.555994</td>\n",
       "      <td>0.260808</td>\n",
       "      <td>0.355526</td>\n",
       "      <td>0.016518</td>\n",
       "      <td>0.031145</td>\n",
       "      <td>0.054082</td>\n",
       "      <td>0.034847</td>\n",
       "      <td>1.000000</td>\n",
       "      <td>0.204733</td>\n",
       "    </tr>\n",
       "    <tr>\n",
       "      <td>Outcome</td>\n",
       "      <td>0.213015</td>\n",
       "      <td>0.491901</td>\n",
       "      <td>0.171509</td>\n",
       "      <td>0.166297</td>\n",
       "      <td>0.194650</td>\n",
       "      <td>0.339733</td>\n",
       "      <td>0.179672</td>\n",
       "      <td>0.204733</td>\n",
       "      <td>1.000000</td>\n",
       "    </tr>\n",
       "  </tbody>\n",
       "</table>\n",
       "</div>"
      ],
      "text/plain": [
       "                          Pregnancies   Glucose  BloodPressure  SkinThickness  \\\n",
       "Pregnancies                  1.000000  0.174091       0.249675       0.012716   \n",
       "Glucose                      0.174091  1.000000       0.225911       0.125461   \n",
       "BloodPressure                0.249675  0.225911       1.000000       0.157455   \n",
       "SkinThickness                0.012716  0.125461       0.157455       1.000000   \n",
       "Insulin                      0.007366  0.403696       0.025626       0.270468   \n",
       "BMI                          0.065042  0.231773       0.277801       0.563459   \n",
       "DiabetesPedigreeFunction    -0.036454  0.149272      -0.005709       0.170513   \n",
       "Age                          0.555994  0.260808       0.355526       0.016518   \n",
       "Outcome                      0.213015  0.491901       0.171509       0.166297   \n",
       "\n",
       "                           Insulin       BMI  DiabetesPedigreeFunction  \\\n",
       "Pregnancies               0.007366  0.065042                 -0.036454   \n",
       "Glucose                   0.403696  0.231773                  0.149272   \n",
       "BloodPressure             0.025626  0.277801                 -0.005709   \n",
       "SkinThickness             0.270468  0.563459                  0.170513   \n",
       "Insulin                   1.000000  0.175689                  0.198604   \n",
       "BMI                       0.175689  1.000000                  0.164809   \n",
       "DiabetesPedigreeFunction  0.198604  0.164809                  1.000000   \n",
       "Age                       0.031145  0.054082                  0.034847   \n",
       "Outcome                   0.194650  0.339733                  0.179672   \n",
       "\n",
       "                               Age   Outcome  \n",
       "Pregnancies               0.555994  0.213015  \n",
       "Glucose                   0.260808  0.491901  \n",
       "BloodPressure             0.355526  0.171509  \n",
       "SkinThickness             0.016518  0.166297  \n",
       "Insulin                   0.031145  0.194650  \n",
       "BMI                       0.054082  0.339733  \n",
       "DiabetesPedigreeFunction  0.034847  0.179672  \n",
       "Age                       1.000000  0.204733  \n",
       "Outcome                   0.204733  1.000000  "
      ]
     },
     "execution_count": 205,
     "metadata": {},
     "output_type": "execute_result"
    }
   ],
   "source": [
    "combine.corr()"
   ]
  },
  {
   "cell_type": "code",
   "execution_count": 206,
   "metadata": {},
   "outputs": [
    {
     "data": {
      "image/png": "[encoded data removed]",
      "text/plain": [
       "<Figure size 432x288 with 2 Axes>"
      ]
     },
     "metadata": {
      "needs_background": "light"
     },
     "output_type": "display_data"
    }
   ],
   "source": [
    "sns.heatmap(combine.corr(),cmap = 'Blues')\n",
    "plt.savefig(\"D:\\ML\\Classification with Random Forests and KNN\\corr_heatmap.png\",dpi=200)"
   ]
  },
  {
   "cell_type": "markdown",
   "metadata": {},
   "source": [
    "### The Distribution of classes\n",
    "- The below bar plot shows us that the **training data sample does not have uniform distribution of the classes**\n",
    "- The following graph gives an **important insight** that is that there exists **class imbalance**.\n",
    "- This means our model will learn the features of **class 0 or Non-Diabetics** far better than it would learn how to classify Diabetics."
   ]
  },
  {
   "cell_type": "code",
   "execution_count": 55,
   "metadata": {},
   "outputs": [
    {
     "name": "stdout",
     "output_type": "stream",
     "text": [
      "Percentage of ones: 34.89583333333333 %\n",
      "Percentage of zeroes: 65.10416666666666 %\n"
     ]
    },
    {
     "data": {
      "image/png": "[encoded data removed]",
      "text/plain": [
       "<Figure size 432x288 with 1 Axes>"
      ]
     },
     "metadata": {
      "needs_background": "light"
     },
     "output_type": "display_data"
    }
   ],
   "source": [
    "y_raw.Outcome.value_counts().plot.bar(title = 'THE DISTRIBUTION OF CLASSES')\n",
    "print(\"Percentage of ones:\",100*(y_raw.Outcome.value_counts()[1]/len(y_raw)),\"%\")\n",
    "print(\"Percentage of zeroes:\",100*(y_raw.Outcome.value_counts()[0]/len(y_raw)),\"%\")\n",
    "plt.savefig(\"D:\\ML\\Classification with Random Forests and KNN\\dist_raw.png\",dpi=200)"
   ]
  },
  {
   "cell_type": "markdown",
   "metadata": {},
   "source": [
    "# Evaluation metric\n",
    "### F1 score\n",
    "- We can see that since the data is not distributed uniformly and hence the better evaluation metric to **accuracy of the model** will be **the F1 score of the model**.\n",
    "- To define F1 score, certain other metrics have to be calculated which are-\n",
    "\n"
   ]
  },
  {
   "cell_type": "code",
   "execution_count": 17,
   "metadata": {},
   "outputs": [
    {
     "data": {
      "image/png": "[encoded data removed]",
      "text/plain": [
       "<IPython.core.display.Image object>"
      ]
     },
     "execution_count": 17,
     "metadata": {},
     "output_type": "execute_result"
    }
   ],
   "source": [
    "Image(\"D:\\ML\\Random Forest Classifier\\metrics.png\")"
   ]
  },
  {
   "cell_type": "markdown",
   "metadata": {},
   "source": [
    "- According to the above definitions we can observe the **higher the precision, the lesser the false positive predictions** and **the higher the recall, the lesser the false negative predictions**.\n",
    "- Since the regular mean treats all values equally and the **harmonic mean gives much more weight to low values** thereby punishing the extreme values more, the classifier will only get a **high F-1 score if both recall and precision are high.**"
   ]
  },
  {
   "cell_type": "code",
   "execution_count": 44,
   "metadata": {},
   "outputs": [],
   "source": [
    "def prec(actual,pred):\n",
    "    tp=0\n",
    "    fp=0\n",
    "    for i,k in zip(actual,pred):\n",
    "        if(i==k and i==1):\n",
    "            tp+=1\n",
    "        if(i==0 and k==1):\n",
    "            fp+=1\n",
    "    return (tp/(tp+fp))\n",
    "        "
   ]
  },
  {
   "cell_type": "code",
   "execution_count": 45,
   "metadata": {},
   "outputs": [],
   "source": [
    "def recall(actual,pred):\n",
    "    tp=0\n",
    "    fn=0\n",
    "    for i,k in zip(actual,pred):\n",
    "        if(i==k and i==1):\n",
    "            tp+=1\n",
    "        if(i==1 and k==0):\n",
    "            fn+=1\n",
    "    return (tp/(tp+fn))"
   ]
  },
  {
   "cell_type": "code",
   "execution_count": 47,
   "metadata": {},
   "outputs": [],
   "source": [
    "from sklearn.metrics import f1_score,accuracy_score"
   ]
  },
  {
   "cell_type": "markdown",
   "metadata": {},
   "source": [
    "## Splitting data into validation  and training sets."
   ]
  },
  {
   "cell_type": "code",
   "execution_count": 48,
   "metadata": {},
   "outputs": [],
   "source": [
    "x_train, x_valid ,y_train, y_valid = train_test_split(train_raw, y_raw, test_size = 120,random_state = 2) "
   ]
  },
  {
   "cell_type": "markdown",
   "metadata": {},
   "source": []
  },
  {
   "cell_type": "code",
   "execution_count": 565,
   "metadata": {
    "scrolled": true
   },
   "outputs": [
    {
     "name": "stdout",
     "output_type": "stream",
     "text": [
      "TRAINING SET\n",
      "Percentage of ones: 34.64912280701755 %\n",
      "Percentage of zeroes: 65.35087719298247 %\n",
      "\u001b[36mPROBABILITIES OF CLASSIFICATION\u001b[0m\n",
      "Diabetic :  0.34649122807017546\n",
      "Non-Diabetic :  0.6535087719298246\n"
     ]
    },
    {
     "data": {
      "image/png": "[encoded data removed]",
      "text/plain": [
       "<Figure size 432x288 with 1 Axes>"
      ]
     },
     "metadata": {
      "needs_background": "light"
     },
     "output_type": "display_data"
    }
   ],
   "source": [
    "print(\"TRAINING SET\")\n",
    "y_train.Outcome.value_counts().plot.bar(title = 'THE DISTRIBUTION OF CLASSES in Training Set')\n",
    "print(\"Percentage of ones:\",100*(y_train.Outcome.value_counts()[1]/len(y_train)),\"%\")\n",
    "print(\"Percentage of zeroes:\",100*(y_train.Outcome.value_counts()[0]/len(y_train)),\"%\")\n",
    "print(color.DARKCYAN +\"PROBABILITIES OF CLASSIFICATION\"+color.END)\n",
    "print(\"Diabetic : \",y_train.Outcome.value_counts()[1]/len(y_train))\n",
    "print(\"Non-Diabetic : \",y_train.Outcome.value_counts()[0]/len(y_train))\n",
    "plt.savefig(r\"D:\\ML\\Random Forest Classifier\\dist_training.png\",dpi=200)"
   ]
  },
  {
   "cell_type": "code",
   "execution_count": 564,
   "metadata": {},
   "outputs": [
    {
     "name": "stdout",
     "output_type": "stream",
     "text": [
      "\u001b[1mVALIDATION SET\u001b[0m\n",
      "Percentage of ones: 35.833333333333336 %\n",
      "Percentage of zeroes: 64.16666666666667 %\n",
      "\u001b[36mPROBABILITIES OF CLASSIFICATION\u001b[0m\n",
      "Diabetic :  0.35833333333333334\n",
      "Non-Diabetic :  0.6416666666666667\n"
     ]
    },
    {
     "data": {
      "image/png": "[encoded data removed]",
      "text/plain": [
       "<Figure size 432x288 with 1 Axes>"
      ]
     },
     "metadata": {
      "needs_background": "light"
     },
     "output_type": "display_data"
    }
   ],
   "source": [
    "print(color.BOLD+\"VALIDATION SET\"+color.END)\n",
    "y_valid.Outcome.value_counts().plot.bar(title = 'THE DISTRIBUTION OF CLASSES in Validation Set')\n",
    "print(\"Percentage of ones:\",100*(y_valid.Outcome.value_counts()[1]/len(y_valid)),\"%\")\n",
    "print(\"Percentage of zeroes:\",100*(y_valid.Outcome.value_counts()[0]/len(y_valid)),\"%\")\n",
    "print(color.DARKCYAN +\"PROBABILITIES OF CLASSIFICATION\"+color.END)\n",
    "print(\"Diabetic : \",y_valid.Outcome.value_counts()[1]/len(y_valid))\n",
    "print(\"Non-Diabetic : \",y_valid.Outcome.value_counts()[0]/len(y_valid))\n",
    "plt.savefig(r\"D:\\ML\\Random Forest Classifier\\dist_validation.png\",dpi=200)"
   ]
  },
  {
   "cell_type": "markdown",
   "metadata": {},
   "source": [
    "# MODELS \n",
    "### - Random Forest Classifier"
   ]
  },
  {
   "cell_type": "code",
   "execution_count": 53,
   "metadata": {},
   "outputs": [
    {
     "data": {
      "text/plain": [
       "RandomForestClassifier(bootstrap=True, class_weight=None, criterion='gini',\n",
       "                       max_depth=None, max_features=0.6, max_leaf_nodes=None,\n",
       "                       min_impurity_decrease=0.0, min_impurity_split=None,\n",
       "                       min_samples_leaf=1, min_samples_split=2,\n",
       "                       min_weight_fraction_leaf=0.0, n_estimators=20, n_jobs=-1,\n",
       "                       oob_score=False, random_state=None, verbose=0,\n",
       "                       warm_start=False)"
      ]
     },
     "execution_count": 53,
     "metadata": {},
     "output_type": "execute_result"
    }
   ],
   "source": [
    "m = RandomForestClassifier(n_estimators=20,max_features= 0.6,n_jobs=-1)\n",
    "m.fit(x_train,list(y_train.Outcome))"
   ]
  },
  {
   "cell_type": "markdown",
   "metadata": {},
   "source": [
    "- Training Score"
   ]
  },
  {
   "cell_type": "code",
   "execution_count": 54,
   "metadata": {
    "scrolled": true
   },
   "outputs": [
    {
     "data": {
      "text/plain": [
       "1.0"
      ]
     },
     "execution_count": 54,
     "metadata": {},
     "output_type": "execute_result"
    }
   ],
   "source": [
    "m.score(x_train,list(y_train.Outcome))"
   ]
  },
  {
   "cell_type": "markdown",
   "metadata": {},
   "source": [
    "- Validation Score"
   ]
  },
  {
   "cell_type": "code",
   "execution_count": 55,
   "metadata": {
    "scrolled": false
   },
   "outputs": [
    {
     "data": {
      "text/plain": [
       "0.7583333333333333"
      ]
     },
     "execution_count": 55,
     "metadata": {},
     "output_type": "execute_result"
    }
   ],
   "source": [
    "m.score(x_valid,list(y_valid.Outcome))"
   ]
  },
  {
   "cell_type": "code",
   "execution_count": 120,
   "metadata": {},
   "outputs": [
    {
     "name": "stdout",
     "output_type": "stream",
     "text": [
      "Trees: 25 Score: 0.7666666666666667 Max features: 0.8\n"
     ]
    },
    {
     "data": {
      "image/png": "[encoded data removed]",
      "text/plain": [
       "<Figure size 432x288 with 1 Axes>"
      ]
     },
     "metadata": {
      "needs_background": "light"
     },
     "output_type": "display_data"
    }
   ],
   "source": [
    "plt.title(\"Mean Accuracy of Model\",fontsize = 15)\n",
    "plt.xlabel(\"Number of trees\")\n",
    "plt.ylabel(\"Accuracy of prediction \")\n",
    "now_score = -1\n",
    "est = 0\n",
    "max_f = 0\n",
    "a = []\n",
    "for i in range(15,50):\n",
    "    m = RandomForestClassifier(n_estimators=i,max_features=0.8,n_jobs=-1)\n",
    "    m.fit(x_train,list(y_train.Outcome))\n",
    "    curr = m.score(x_valid,y_valid.Outcome)\n",
    "    a.append(curr)\n",
    "    plt.scatter(i,curr)\n",
    "    if(curr > now_score):\n",
    "        now_score = curr\n",
    "        est = i\n",
    "print(\"Trees:\",est,\"Score:\",now_score,\"Max features:\",0.8)\n",
    "plt.plot([i for i in range(15,50)],a,color = 'black')\n",
    "plt.savefig(r\"D:\\ML\\Classification with Random Forests and KNN\\accuarcy_rforest.png\",dpi=200)"
   ]
  },
  {
   "cell_type": "code",
   "execution_count": 121,
   "metadata": {},
   "outputs": [
    {
     "name": "stdout",
     "output_type": "stream",
     "text": [
      "Trees: 27 Score: 0.6904761904761904 Max features: 0.8\n"
     ]
    },
    {
     "data": {
      "image/png": "[encoded data removed]",
      "text/plain": [
       "<Figure size 432x288 with 1 Axes>"
      ]
     },
     "metadata": {
      "needs_background": "light"
     },
     "output_type": "display_data"
    }
   ],
   "source": [
    "plt.title(\"F1 score of Random Forest\",fontsize = 15)\n",
    "plt.xlabel(\"Number of trees\")\n",
    "plt.ylabel(\"Score of prediction \")\n",
    "now = -1\n",
    "f_value = 0\n",
    "f_vals =[]\n",
    "estimators = 0\n",
    "for i in range(15,70):\n",
    "    \n",
    "    m = RandomForestClassifier(n_estimators=i,max_features=0.8,n_jobs=-1,bootstrap=0)        \n",
    "    m.fit(x_train,list(y_train.Outcome))\n",
    "    curr = f1_score(y_valid.Outcome,m.predict(x_valid))\n",
    "    plt.scatter(i,curr)\n",
    "    f_vals.append(curr)\n",
    "    if(curr > now):\n",
    "        now = curr\n",
    "        estimators=i\n",
    "print(\"Trees:\",estimators,\"Score:\",now,\"Max features:\",0.8)\n",
    "plt.plot([i for i in range(15,70)],f_vals,color= 'black')\n",
    "plt.savefig(r\"D:\\ML\\Classification with Random Forests and KNN\\f1_score_rforest.png\",dpi=200)"
   ]
  },
  {
   "cell_type": "markdown",
   "metadata": {},
   "source": [
    "- From the above graphs, we can see that the model with **20-30** trees had the best accuracy and the f1 score.\n",
    "- Now, builiding final model on 20 trees we get the below model."
   ]
  },
  {
   "cell_type": "code",
   "execution_count": 123,
   "metadata": {},
   "outputs": [
    {
     "data": {
      "text/plain": [
       "RandomForestClassifier(bootstrap=0, class_weight=None, criterion='gini',\n",
       "                       max_depth=None, max_features=0.8, max_leaf_nodes=None,\n",
       "                       min_impurity_decrease=0.0, min_impurity_split=None,\n",
       "                       min_samples_leaf=1, min_samples_split=2,\n",
       "                       min_weight_fraction_leaf=0.0, n_estimators=25,\n",
       "                       n_jobs=None, oob_score=False, random_state=None,\n",
       "                       verbose=0, warm_start=False)"
      ]
     },
     "execution_count": 123,
     "metadata": {},
     "output_type": "execute_result"
    }
   ],
   "source": [
    "m = RandomForestClassifier(n_estimators=25,max_features=0.8,bootstrap=0)\n",
    "m.fit(x_train,list(y_train.Outcome))"
   ]
  },
  {
   "cell_type": "code",
   "execution_count": 124,
   "metadata": {},
   "outputs": [
    {
     "name": "stderr",
     "output_type": "stream",
     "text": [
      "E:\\ANACONDA\\lib\\site-packages\\ipykernel_launcher.py:1: SettingWithCopyWarning: \n",
      "A value is trying to be set on a copy of a slice from a DataFrame.\n",
      "Try using .loc[row_indexer,col_indexer] = value instead\n",
      "\n",
      "See the caveats in the documentation: http://pandas.pydata.org/pandas-docs/stable/user_guide/indexing.html#returning-a-view-versus-a-copy\n",
      "  \"\"\"Entry point for launching an IPython kernel.\n"
     ]
    }
   ],
   "source": [
    "y_valid[\"Index\"] = [i for i in range(len(y_valid))]"
   ]
  },
  {
   "cell_type": "code",
   "execution_count": 125,
   "metadata": {},
   "outputs": [
    {
     "data": {
      "text/html": [
       "<div>\n",
       "<style scoped>\n",
       "    .dataframe tbody tr th:only-of-type {\n",
       "        vertical-align: middle;\n",
       "    }\n",
       "\n",
       "    .dataframe tbody tr th {\n",
       "        vertical-align: top;\n",
       "    }\n",
       "\n",
       "    .dataframe thead th {\n",
       "        text-align: right;\n",
       "    }\n",
       "</style>\n",
       "<table border=\"1\" class=\"dataframe\">\n",
       "  <thead>\n",
       "    <tr style=\"text-align: right;\">\n",
       "      <th></th>\n",
       "      <th>Outcome</th>\n",
       "      <th>Index</th>\n",
       "    </tr>\n",
       "  </thead>\n",
       "  <tbody>\n",
       "    <tr>\n",
       "      <td>309</td>\n",
       "      <td>1</td>\n",
       "      <td>0</td>\n",
       "    </tr>\n",
       "    <tr>\n",
       "      <td>192</td>\n",
       "      <td>1</td>\n",
       "      <td>1</td>\n",
       "    </tr>\n",
       "    <tr>\n",
       "      <td>524</td>\n",
       "      <td>0</td>\n",
       "      <td>2</td>\n",
       "    </tr>\n",
       "  </tbody>\n",
       "</table>\n",
       "</div>"
      ],
      "text/plain": [
       "     Outcome  Index\n",
       "309        1      0\n",
       "192        1      1\n",
       "524        0      2"
      ]
     },
     "execution_count": 125,
     "metadata": {},
     "output_type": "execute_result"
    }
   ],
   "source": [
    "y_valid.head(n=3)"
   ]
  },
  {
   "cell_type": "code",
   "execution_count": 126,
   "metadata": {},
   "outputs": [],
   "source": [
    "preds = m.predict(x_valid)"
   ]
  },
  {
   "cell_type": "code",
   "execution_count": 127,
   "metadata": {
    "scrolled": true
   },
   "outputs": [
    {
     "name": "stdout",
     "output_type": "stream",
     "text": [
      "[[64 13]\n",
      " [17 26]]\n"
     ]
    }
   ],
   "source": [
    "c1 = confusion_matrix(y_valid['Outcome'],preds)\n",
    "\n",
    "# rows are the actual class\n",
    "# collumns are the predicted class\n",
    "print(c1)"
   ]
  },
  {
   "cell_type": "code",
   "execution_count": 129,
   "metadata": {},
   "outputs": [
    {
     "data": {
      "image/png": "[encoded data removed]",
      "text/plain": [
       "<Figure size 432x288 with 2 Axes>"
      ]
     },
     "metadata": {
      "needs_background": "light"
     },
     "output_type": "display_data"
    }
   ],
   "source": [
    "labels = ['True Negative','False Positive','False Negative','True Positive']\n",
    "labels = np.asarray(labels).reshape(2,2)\n",
    "sns.heatmap(c1,annot =labels,fmt='',cmap = 'Greens')\n",
    "plt.xlabel(\"Predicted Value\")\n",
    "plt.ylabel(\"Actual Value\")\n",
    "plt.title(\"CONFUSION MATRIX\",fontsize = 15)\n",
    "plt.savefig(\"D:\\ML\\Classification with Random Forests and KNN\\cmatrix_rforest.png\",dpi=200)\n"
   ]
  },
  {
   "cell_type": "code",
   "execution_count": 204,
   "metadata": {},
   "outputs": [
    {
     "name": "stdout",
     "output_type": "stream",
     "text": [
      "Recall of predicted values: 0.6046511627906976\n",
      "Precision of predicted values: 0.6666666666666666\n",
      "The F1 score is : 63.414634146341456 %\n",
      "The mean accuracy of model is: 75.0 %\n"
     ]
    }
   ],
   "source": [
    "print(\"Recall of predicted values:\",recall(y_valid.Outcome,preds))\n",
    "print(\"Precision of predicted values:\",prec(y_valid.Outcome,preds))\n",
    "print(\"The F1 score is :\",f1_score(y_valid.Outcome,preds)*100,\"%\")\n",
    "print(\"The mean accuracy of model is:\",accuracy_score(y_valid.Outcome,preds)*100,\"%\")"
   ]
  },
  {
   "cell_type": "markdown",
   "metadata": {},
   "source": [
    "## -KNN Classifier"
   ]
  },
  {
   "cell_type": "code",
   "execution_count": 131,
   "metadata": {},
   "outputs": [],
   "source": [
    "from sklearn.neighbors import KNeighborsClassifier"
   ]
  },
  {
   "cell_type": "code",
   "execution_count": 132,
   "metadata": {},
   "outputs": [
    {
     "data": {
      "text/plain": [
       "Index(['Pregnancies', 'Glucose', 'BloodPressure', 'SkinThickness', 'Insulin',\n",
       "       'BMI', 'DiabetesPedigreeFunction', 'Age'],\n",
       "      dtype='object')"
      ]
     },
     "execution_count": 132,
     "metadata": {},
     "output_type": "execute_result"
    }
   ],
   "source": [
    "train_raw.columns"
   ]
  },
  {
   "cell_type": "markdown",
   "metadata": {},
   "source": [
    "## F1 score and Accuracy\n",
    "- In the correlation matrix it was noted that **BloodPressure** and **SkinThickness** were very weakly correlated variables.\n",
    "- Hence, the model was formed by dropping each of them one by one and the f1 score of the model was plotted.\n",
    "- The score did not improve but it was found that **7 neighbours** were the optimum number of the neighbours for the dataset."
   ]
  },
  {
   "cell_type": "code",
   "execution_count": 135,
   "metadata": {},
   "outputs": [
    {
     "name": "stdout",
     "output_type": "stream",
     "text": [
      "Dropping BP\n",
      "Dropping Skin Thickness\n"
     ]
    },
    {
     "data": {
      "image/png": "[encoded data removed]",
      "text/plain": [
       "<Figure size 432x288 with 1 Axes>"
      ]
     },
     "metadata": {
      "needs_background": "light"
     },
     "output_type": "display_data"
    }
   ],
   "source": [
    "fs1=[]\n",
    "fs2=[]\n",
    "fs=[]\n",
    "labels = ['BloodPressure', 'SkinThickness']\n",
    "plt.xlabel(\"Number of neighbours\")\n",
    "plt.ylabel(\"F1 score of model\")\n",
    "for k in labels:\n",
    "    for i in range(2,40):\n",
    "        knn = KNeighborsClassifier(n_neighbors= i, weights='distance',metric='minkowski')\n",
    "        knn.fit(x_train.drop(k,axis=1),list(y_train.Outcome))\n",
    "        if(k=='BloodPressure'):\n",
    "            fs1.append(f1_score(y_valid.Outcome, knn.predict(x_valid.drop(k,axis=1))))\n",
    "            plt.scatter(i,f1_score(y_valid.Outcome, knn.predict(x_valid.drop(k,axis=1))))\n",
    "        else:\n",
    "            fs2.append(f1_score(y_valid.Outcome, knn.predict(x_valid.drop(k,axis=1)))) \n",
    "            plt.scatter(i,f1_score(y_valid.Outcome, knn.predict(x_valid.drop(k,axis=1))))\n",
    "for i in range(2,40):\n",
    "        knn = KNeighborsClassifier(n_neighbors= i, weights='distance',metric='minkowski')\n",
    "        knn.fit(x_train,list(y_train.Outcome))\n",
    "        fs.append(f1_score(y_valid.Outcome, knn.predict(x_valid)))\n",
    "        plt.scatter(i,f1_score(y_valid.Outcome, knn.predict(x_valid)))\n",
    "print(\"Dropping BP\")\n",
    "\n",
    "plt.plot([i for i in range(2,40)],fs1,color = 'black',label = 'Blood Pressure')\n",
    "print(\"Dropping Skin Thickness\")\n",
    "plt.title(\"KNN f1 score\",fontsize=15)\n",
    "plt.plot([i for i in range(2,40)],fs2,label = 'SkinThickness')\n",
    "plt.plot([i for i in range(2,40)],fs,label='Original',color='red')\n",
    "plt.legend()\n",
    "plt.savefig(\"D:\\ML\\Classification with Random Forests and KNN\\knn_f1_score.png\",dpi=200)"
   ]
  },
  {
   "cell_type": "code",
   "execution_count": 207,
   "metadata": {},
   "outputs": [
    {
     "data": {
      "image/png": "[encoded data removed]",
      "text/plain": [
       "<Figure size 432x288 with 1 Axes>"
      ]
     },
     "metadata": {
      "needs_background": "light"
     },
     "output_type": "display_data"
    }
   ],
   "source": [
    "acc=[]\n",
    "plt.xlabel(\"Number of neighbours\")\n",
    "plt.ylabel(\"Accuracy score of model\")\n",
    "for i in range(2,25):\n",
    "    knn = KNeighborsClassifier(n_neighbors= i, weights='distance',metric='minkowski')\n",
    "    knn.fit(x_train,list(y_train.Outcome))\n",
    "    acc.append(accuracy_score(y_valid.Outcome, knn.predict(x_valid)))\n",
    "plt.title(\"Mean Accuracy of the model\",fontsize=15)\n",
    "plt.plot([i for i in range(2,25)],acc)\n",
    "plt.savefig(\"D:\\ML\\Classification with Random Forests and KNN\\knn_accuracy.png\",dpi=200)"
   ]
  },
  {
   "cell_type": "code",
   "execution_count": 194,
   "metadata": {},
   "outputs": [
    {
     "data": {
      "text/plain": [
       "KNeighborsClassifier(algorithm='auto', leaf_size=30, metric='minkowski',\n",
       "                     metric_params=None, n_jobs=None, n_neighbors=5, p=2,\n",
       "                     weights='distance')"
      ]
     },
     "execution_count": 194,
     "metadata": {},
     "output_type": "execute_result"
    }
   ],
   "source": [
    "knn = KNeighborsClassifier(n_neighbors= 5, weights='distance',metric = 'minkowski')\n",
    "knn.fit(x_train,list(y_train.Outcome))"
   ]
  },
  {
   "cell_type": "code",
   "execution_count": 195,
   "metadata": {},
   "outputs": [],
   "source": [
    "pred_knn = knn.predict(x_valid)\n"
   ]
  },
  {
   "cell_type": "code",
   "execution_count": 196,
   "metadata": {},
   "outputs": [
    {
     "name": "stdout",
     "output_type": "stream",
     "text": [
      "[[64 13]\n",
      " [12 31]]\n"
     ]
    }
   ],
   "source": [
    "c1= confusion_matrix(y_valid['Outcome'],pred_knn)\n",
    "print(c1)"
   ]
  },
  {
   "cell_type": "code",
   "execution_count": 197,
   "metadata": {},
   "outputs": [
    {
     "data": {
      "image/png": "[encoded data removed]",
      "text/plain": [
       "<Figure size 432x288 with 2 Axes>"
      ]
     },
     "metadata": {
      "needs_background": "light"
     },
     "output_type": "display_data"
    }
   ],
   "source": [
    "labels = ['True Negative','False Positive','False Negative','True Positive']\n",
    "labels = np.asarray(labels).reshape(2,2)\n",
    "sns.heatmap(c1,annot =labels,fmt='',cmap = 'Reds')\n",
    "plt.xlabel(\"Predicted Value\")\n",
    "plt.ylabel(\"Actual Value\")\n",
    "plt.title(\"CONFUSION MATRIX\",fontsize = 15)\n",
    "plt.savefig(\"D:\\ML\\Classification with Random Forests and KNN\\c_matrix_knn.png\",dpi=200)"
   ]
  },
  {
   "cell_type": "code",
   "execution_count": 198,
   "metadata": {},
   "outputs": [
    {
     "name": "stdout",
     "output_type": "stream",
     "text": [
      "Precision of the model on validation: 0.7045454545454546\n",
      "Recall of the model on validation: 0.7209302325581395\n",
      "Accuracy of model: 0.7916666666666666\n",
      "F1 score of model: 0.7126436781609196\n"
     ]
    }
   ],
   "source": [
    "print(\"Precision of the model on validation:\",prec(y_valid.Outcome,pred_knn))\n",
    "print(\"Recall of the model on validation:\",recall(y_valid.Outcome,pred_knn))\n",
    "print(\"Accuracy of model:\",accuracy_score(y_valid.Outcome,pred_knn))\n",
    "print(\"F1 score of model:\",f1_score(y_valid.Outcome,pred_knn))"
   ]
  },
  {
   "cell_type": "markdown",
   "metadata": {},
   "source": [
    "- It is noted that the KNN classifier performs **better** than the Random Forest Classifier and thus it is chosen for the final prediction set.\n",
    "\n",
    "## FINAL MODEL \n",
    "###   KNN classifier with 5 nearest neighbours as the k value and the distance type is minkowski."
   ]
  },
  {
   "cell_type": "code",
   "execution_count": 199,
   "metadata": {},
   "outputs": [
    {
     "data": {
      "text/html": [
       "<div>\n",
       "<style scoped>\n",
       "    .dataframe tbody tr th:only-of-type {\n",
       "        vertical-align: middle;\n",
       "    }\n",
       "\n",
       "    .dataframe tbody tr th {\n",
       "        vertical-align: top;\n",
       "    }\n",
       "\n",
       "    .dataframe thead th {\n",
       "        text-align: right;\n",
       "    }\n",
       "</style>\n",
       "<table border=\"1\" class=\"dataframe\">\n",
       "  <thead>\n",
       "    <tr style=\"text-align: right;\">\n",
       "      <th></th>\n",
       "      <th>Pregnancies</th>\n",
       "      <th>Glucose</th>\n",
       "      <th>BloodPressure</th>\n",
       "      <th>SkinThickness</th>\n",
       "      <th>Insulin</th>\n",
       "      <th>BMI</th>\n",
       "      <th>DiabetesPedigreeFunction</th>\n",
       "      <th>Age</th>\n",
       "    </tr>\n",
       "  </thead>\n",
       "  <tbody>\n",
       "    <tr>\n",
       "      <td>0</td>\n",
       "      <td>0</td>\n",
       "      <td>180</td>\n",
       "      <td>90</td>\n",
       "      <td>26</td>\n",
       "      <td>90</td>\n",
       "      <td>36.5</td>\n",
       "      <td>0.314</td>\n",
       "      <td>35</td>\n",
       "    </tr>\n",
       "    <tr>\n",
       "      <td>1</td>\n",
       "      <td>2</td>\n",
       "      <td>93</td>\n",
       "      <td>64</td>\n",
       "      <td>32</td>\n",
       "      <td>160</td>\n",
       "      <td>38.0</td>\n",
       "      <td>0.674</td>\n",
       "      <td>23</td>\n",
       "    </tr>\n",
       "    <tr>\n",
       "      <td>2</td>\n",
       "      <td>2</td>\n",
       "      <td>114</td>\n",
       "      <td>68</td>\n",
       "      <td>22</td>\n",
       "      <td>76</td>\n",
       "      <td>28.7</td>\n",
       "      <td>0.092</td>\n",
       "      <td>25</td>\n",
       "    </tr>\n",
       "    <tr>\n",
       "      <td>3</td>\n",
       "      <td>13</td>\n",
       "      <td>76</td>\n",
       "      <td>60</td>\n",
       "      <td>20</td>\n",
       "      <td>76</td>\n",
       "      <td>32.8</td>\n",
       "      <td>0.180</td>\n",
       "      <td>41</td>\n",
       "    </tr>\n",
       "    <tr>\n",
       "      <td>4</td>\n",
       "      <td>1</td>\n",
       "      <td>80</td>\n",
       "      <td>74</td>\n",
       "      <td>11</td>\n",
       "      <td>60</td>\n",
       "      <td>30.0</td>\n",
       "      <td>0.527</td>\n",
       "      <td>22</td>\n",
       "    </tr>\n",
       "  </tbody>\n",
       "</table>\n",
       "</div>"
      ],
      "text/plain": [
       "   Pregnancies  Glucose  BloodPressure  SkinThickness  Insulin   BMI  \\\n",
       "0            0      180             90             26       90  36.5   \n",
       "1            2       93             64             32      160  38.0   \n",
       "2            2      114             68             22       76  28.7   \n",
       "3           13       76             60             20       76  32.8   \n",
       "4            1       80             74             11       60  30.0   \n",
       "\n",
       "   DiabetesPedigreeFunction  Age  \n",
       "0                     0.314   35  \n",
       "1                     0.674   23  \n",
       "2                     0.092   25  \n",
       "3                     0.180   41  \n",
       "4                     0.527   22  "
      ]
     },
     "execution_count": 199,
     "metadata": {},
     "output_type": "execute_result"
    }
   ],
   "source": [
    "test_raw.head()"
   ]
  },
  {
   "cell_type": "code",
   "execution_count": 200,
   "metadata": {},
   "outputs": [],
   "source": [
    "final_predictions = knn.predict(test_raw)"
   ]
  },
  {
   "cell_type": "code",
   "execution_count": 201,
   "metadata": {},
   "outputs": [],
   "source": [
    "final = pd.DataFrame({'Outcome':final_predictions})"
   ]
  },
  {
   "cell_type": "code",
   "execution_count": 202,
   "metadata": {},
   "outputs": [
    {
     "data": {
      "text/html": [
       "<div>\n",
       "<style scoped>\n",
       "    .dataframe tbody tr th:only-of-type {\n",
       "        vertical-align: middle;\n",
       "    }\n",
       "\n",
       "    .dataframe tbody tr th {\n",
       "        vertical-align: top;\n",
       "    }\n",
       "\n",
       "    .dataframe thead th {\n",
       "        text-align: right;\n",
       "    }\n",
       "</style>\n",
       "<table border=\"1\" class=\"dataframe\">\n",
       "  <thead>\n",
       "    <tr style=\"text-align: right;\">\n",
       "      <th></th>\n",
       "      <th>Outcome</th>\n",
       "    </tr>\n",
       "  </thead>\n",
       "  <tbody>\n",
       "    <tr>\n",
       "      <td>0</td>\n",
       "      <td>1</td>\n",
       "    </tr>\n",
       "    <tr>\n",
       "      <td>1</td>\n",
       "      <td>0</td>\n",
       "    </tr>\n",
       "    <tr>\n",
       "      <td>2</td>\n",
       "      <td>0</td>\n",
       "    </tr>\n",
       "    <tr>\n",
       "      <td>3</td>\n",
       "      <td>0</td>\n",
       "    </tr>\n",
       "    <tr>\n",
       "      <td>4</td>\n",
       "      <td>0</td>\n",
       "    </tr>\n",
       "  </tbody>\n",
       "</table>\n",
       "</div>"
      ],
      "text/plain": [
       "   Outcome\n",
       "0        1\n",
       "1        0\n",
       "2        0\n",
       "3        0\n",
       "4        0"
      ]
     },
     "execution_count": 202,
     "metadata": {},
     "output_type": "execute_result"
    }
   ],
   "source": [
    "final.head()"
   ]
  },
  {
   "cell_type": "code",
   "execution_count": 203,
   "metadata": {},
   "outputs": [],
   "source": [
    "final.to_csv(r\"D:\\ML\\Classification with Random Forests and KNN\\final_predictions.csv\")"
   ]
  },
  {
   "cell_type": "code",
   "execution_count": null,
   "metadata": {},
   "outputs": [],
   "source": []
  }
 ],
 "metadata": {
  "kernelspec": {
   "display_name": "Python 3",
   "language": "python",
   "name": "python3"
  },
  "language_info": {
   "codemirror_mode": {
    "name": "ipython",
    "version": 3
   },
   "file_extension": ".py",
   "mimetype": "text/x-python",
   "name": "python",
   "nbconvert_exporter": "python",
   "pygments_lexer": "ipython3",
   "version": "3.7.4"
  }
 },
 "nbformat": 4,
 "nbformat_minor": 2
}
